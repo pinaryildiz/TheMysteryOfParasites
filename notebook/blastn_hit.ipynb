{
 "cells": [
  {
   "cell_type": "code",
   "execution_count": 104,
   "metadata": {},
   "outputs": [],
   "source": [
    "import pandas as pd\n",
    "import matplotlib.pyplot as plt\n",
    "import seaborn as sns\n",
    "import os"
   ]
  },
  {
   "cell_type": "code",
   "execution_count": 105,
   "metadata": {},
   "outputs": [],
   "source": [
    "column_names=['qseqid', 'sseqid', 'pident', 'length', 'mismatch', 'gaopen', 'qstart', 'qend', 'sstart', 'send', 'evalue', 'bitscore']\n",
    "delimiter=\"\t\""
   ]
  },
  {
   "cell_type": "code",
   "execution_count": 106,
   "metadata": {},
   "outputs": [],
   "source": [
    "target = \"T_vaginalis\""
   ]
  },
  {
   "cell_type": "code",
   "execution_count": 107,
   "metadata": {},
   "outputs": [],
   "source": [
    "query = [\"T_foetus\", \"H_meleagridis\"]"
   ]
  },
  {
   "cell_type": "code",
   "execution_count": 108,
   "metadata": {},
   "outputs": [],
   "source": [
    "def get_data(name):\n",
    "    df = pd.read_csv(f\"\"\"../output/blastn/{target}/{name}.blastn\"\"\", delimiter=delimiter, names=column_names)\n",
    "    \n",
    "    print(f\"\"\"Number of hits for {target} vs. {name}: \"\"\", len(df))\n",
    "    plt.figure(figsize=(10, 6))\n",
    "    sns.histplot(data=df, x='pident')\n",
    "    plt.savefig(f\"../image/blast_hit/{target}-{name}_histogram.png\", transparent=True)\n",
    "    plt.close()\n",
    "    \n",
    "    pivot = pd.pivot_table(df, values='length', index='qseqid', columns='sseqid')\n",
    "    plt.figure(figsize=(10, 6))\n",
    "    sns.heatmap(pivot)\n",
    "    plt.savefig(f\"../image/blast_hit/{target}-{name}_heatmap.png\", transparent=True)\n",
    "    plt.close()\n",
    "\n",
    "    plt.figure(figsize=(10, 6))\n",
    "    sns.scatterplot(data=df.reset_index(), x='index', y='bitscore', hue='pident')\n",
    "    plt.savefig(f\"../image/blast_hit/{target}-{name}_scatterplot.png\", transparent=True)\n",
    "    plt.close()"
   ]
  },
  {
   "cell_type": "code",
   "execution_count": 109,
   "metadata": {},
   "outputs": [
    {
     "name": "stdout",
     "output_type": "stream",
     "text": [
      "Number of hits for T_vaginalis vs. T_foetus:  142\n",
      "Number of hits for T_vaginalis vs. H_meleagridis:  64\n"
     ]
    }
   ],
   "source": [
    "for i in query:\n",
    "    get_data(i)"
   ]
  }
 ],
 "metadata": {
  "kernelspec": {
   "display_name": "Python 3",
   "language": "python",
   "name": "python3"
  },
  "language_info": {
   "codemirror_mode": {
    "name": "ipython",
    "version": 3
   },
   "file_extension": ".py",
   "mimetype": "text/x-python",
   "name": "python",
   "nbconvert_exporter": "python",
   "pygments_lexer": "ipython3",
   "version": "3.11.5"
  }
 },
 "nbformat": 4,
 "nbformat_minor": 2
}
